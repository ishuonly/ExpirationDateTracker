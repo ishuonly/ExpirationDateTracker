{
  "cells": [
    {
      "attachments": {},
      "cell_type": "markdown",
      "metadata": {
        "id": "BeB10ZMav-SW"
      },
      "source": [
        "#Importing Dataset"
      ]
    },
    {
      "cell_type": "code",
      "execution_count": 2,
      "metadata": {
        "colab": {
          "base_uri": "https://localhost:8080/"
        },
        "id": "CkSZ9-gPukrQ",
        "outputId": "29f64caa-0e6e-47f3-efb8-80e3fc462a20"
      },
      "outputs": [
        {
          "name": "stdout",
          "output_type": "stream",
          "text": [
            "Drive already mounted at /content/drive; to attempt to forcibly remount, call drive.mount(\"/content/drive\", force_remount=True).\n"
          ]
        }
      ],
      "source": [
        "from google.colab import drive\n",
        "drive.mount('/content/drive')"
      ]
    },
    {
      "attachments": {},
      "cell_type": "markdown",
      "metadata": {
        "id": "5vUbBvinu8zW"
      },
      "source": [
        "#Importing libraries"
      ]
    },
    {
      "cell_type": "code",
      "execution_count": 3,
      "metadata": {
        "id": "4JsejDm3uxTS"
      },
      "outputs": [],
      "source": [
        "import tensorflow as tf\n",
        "import matplotlib.pyplot as plt"
      ]
    },
    {
      "attachments": {},
      "cell_type": "markdown",
      "metadata": {
        "id": "i2w52yYrvTu9"
      },
      "source": [
        "#Data Preprocessing"
      ]
    },
    {
      "attachments": {},
      "cell_type": "markdown",
      "metadata": {
        "id": "vU3NlcKCwlIZ"
      },
      "source": [
        "##Training Image preprocessing"
      ]
    },
    {
      "cell_type": "code",
      "execution_count": 4,
      "metadata": {
        "colab": {
          "base_uri": "https://localhost:8080/"
        },
        "id": "Kjoa0oUHvQAv",
        "outputId": "5b2a4719-d866-4ba2-f198-18fcb7e3b934"
      },
      "outputs": [
        {
          "name": "stdout",
          "output_type": "stream",
          "text": [
            "Found 3114 files belonging to 36 classes.\n"
          ]
        }
      ],
      "source": [
        "training_set = tf.keras.utils.image_dataset_from_directory(\n",
        "    '/content/drive/MyDrive/Hackathons/WaffleHacks/train',\n",
        "    labels=\"inferred\",\n",
        "    label_mode=\"categorical\",\n",
        "    class_names=None,\n",
        "    color_mode=\"rgb\",\n",
        "    batch_size=32,\n",
        "    image_size=(64, 64),\n",
        "    shuffle=True,\n",
        "    seed=None,\n",
        "    validation_split=None,\n",
        "    subset=None,\n",
        "    interpolation=\"bilinear\",\n",
        "    follow_links=False,\n",
        "    crop_to_aspect_ratio=False\n",
        ")"
      ]
    },
    {
      "attachments": {},
      "cell_type": "markdown",
      "metadata": {
        "id": "nK9Ev76o0mdJ"
      },
      "source": [
        "##Validation Image Preprocessing"
      ]
    },
    {
      "cell_type": "code",
      "execution_count": 5,
      "metadata": {
        "colab": {
          "base_uri": "https://localhost:8080/"
        },
        "id": "Tocls4IowkNB",
        "outputId": "353e9f24-3903-403a-e5a7-29d882f00129"
      },
      "outputs": [
        {
          "name": "stdout",
          "output_type": "stream",
          "text": [
            "Found 351 files belonging to 36 classes.\n"
          ]
        }
      ],
      "source": [
        "validation_set = tf.keras.utils.image_dataset_from_directory(\n",
        "    '/content/drive/MyDrive/Hackathons/WaffleHacks/validation',\n",
        "    labels=\"inferred\",\n",
        "    label_mode=\"categorical\",\n",
        "    class_names=None,\n",
        "    color_mode=\"rgb\",\n",
        "    batch_size=32,\n",
        "    image_size=(64, 64),\n",
        "    shuffle=True,\n",
        "    seed=None,\n",
        "    validation_split=None,\n",
        "    subset=None,\n",
        "    interpolation=\"bilinear\",\n",
        "    follow_links=False,\n",
        "    crop_to_aspect_ratio=False\n",
        ")"
      ]
    },
    {
      "attachments": {},
      "cell_type": "markdown",
      "metadata": {
        "id": "OQ_TcbD7r2Cw"
      },
      "source": [
        "#Building Model"
      ]
    },
    {
      "cell_type": "code",
      "execution_count": 6,
      "metadata": {
        "id": "cUMiJrPvsBTU"
      },
      "outputs": [],
      "source": [
        "cnn = tf.keras.models.Sequential()"
      ]
    },
    {
      "attachments": {},
      "cell_type": "markdown",
      "metadata": {
        "id": "mgFWYq7ssLkV"
      },
      "source": [
        "##Building Convolution Layer"
      ]
    },
    {
      "cell_type": "code",
      "execution_count": 7,
      "metadata": {
        "id": "LoaODWuZrHFg"
      },
      "outputs": [],
      "source": [
        "cnn.add(tf.keras.layers.Conv2D(filters=32,kernel_size=3,padding='same',activation='relu',input_shape=[64,64,3]))\n",
        "cnn.add(tf.keras.layers.Conv2D(filters=32,kernel_size=3,activation='relu'))\n",
        "cnn.add(tf.keras.layers.MaxPool2D(pool_size=2,strides=2))\n",
        "cnn.add(tf.keras.layers.Dropout(0.25))\n",
        "cnn.add(tf.keras.layers.Conv2D(filters=64,kernel_size=3,padding='same',activation='relu'))\n",
        "cnn.add(tf.keras.layers.Conv2D(filters=64,kernel_size=3,activation='relu'))\n",
        "cnn.add(tf.keras.layers.MaxPool2D(pool_size=2,strides=2))\n",
        "cnn.add(tf.keras.layers.Dropout(0.25))\n",
        "cnn.add(tf.keras.layers.Flatten())\n",
        "cnn.add(tf.keras.layers.Dense(units=512,activation='relu'))\n",
        "cnn.add(tf.keras.layers.Dense(units=256,activation='relu'))\n",
        "cnn.add(tf.keras.layers.Dropout(0.5)) #To avoid overfitting\n",
        "#Output Layer\n",
        "cnn.add(tf.keras.layers.Dense(units=36,activation='softmax'))"
      ]
    },
    {
      "attachments": {},
      "cell_type": "markdown",
      "metadata": {
        "id": "sYYdAFZDvt1P"
      },
      "source": [
        "#Compiling and Training Phase"
      ]
    },
    {
      "cell_type": "code",
      "execution_count": 8,
      "metadata": {
        "id": "yAcyiEfVvVzw"
      },
      "outputs": [],
      "source": [
        "cnn.compile(optimizer='adam',loss='categorical_crossentropy',metrics=['accuracy'])"
      ]
    },
    {
      "cell_type": "code",
      "execution_count": 9,
      "metadata": {
        "colab": {
          "base_uri": "https://localhost:8080/"
        },
        "id": "X0MROJsdlC5Z",
        "outputId": "609c65df-1fd7-4d3f-ee25-5b0c58de0bad"
      },
      "outputs": [
        {
          "name": "stdout",
          "output_type": "stream",
          "text": [
            "Model: \"sequential\"\n",
            "_________________________________________________________________\n",
            " Layer (type)                Output Shape              Param #   \n",
            "=================================================================\n",
            " conv2d (Conv2D)             (None, 64, 64, 32)        896       \n",
            "                                                                 \n",
            " conv2d_1 (Conv2D)           (None, 62, 62, 32)        9248      \n",
            "                                                                 \n",
            " max_pooling2d (MaxPooling2D  (None, 31, 31, 32)       0         \n",
            " )                                                               \n",
            "                                                                 \n",
            " dropout (Dropout)           (None, 31, 31, 32)        0         \n",
            "                                                                 \n",
            " conv2d_2 (Conv2D)           (None, 31, 31, 64)        18496     \n",
            "                                                                 \n",
            " conv2d_3 (Conv2D)           (None, 29, 29, 64)        36928     \n",
            "                                                                 \n",
            " max_pooling2d_1 (MaxPooling  (None, 14, 14, 64)       0         \n",
            " 2D)                                                             \n",
            "                                                                 \n",
            " dropout_1 (Dropout)         (None, 14, 14, 64)        0         \n",
            "                                                                 \n",
            " flatten (Flatten)           (None, 12544)             0         \n",
            "                                                                 \n",
            " dense (Dense)               (None, 512)               6423040   \n",
            "                                                                 \n",
            " dense_1 (Dense)             (None, 256)               131328    \n",
            "                                                                 \n",
            " dropout_2 (Dropout)         (None, 256)               0         \n",
            "                                                                 \n",
            " dense_2 (Dense)             (None, 36)                9252      \n",
            "                                                                 \n",
            "=================================================================\n",
            "Total params: 6,629,188\n",
            "Trainable params: 6,629,188\n",
            "Non-trainable params: 0\n",
            "_________________________________________________________________\n"
          ]
        }
      ],
      "source": [
        "cnn.summary()"
      ]
    },
    {
      "cell_type": "code",
      "execution_count": 15,
      "metadata": {
        "colab": {
          "base_uri": "https://localhost:8080/"
        },
        "id": "K3W4dNUrvxIw",
        "outputId": "39543fbd-f454-406b-eac3-9a201a8bec3e"
      },
      "outputs": [
        {
          "name": "stdout",
          "output_type": "stream",
          "text": [
            "Epoch 1/32\n",
            "98/98 [==============================] - 103s 1s/step - loss: 2.2861 - accuracy: 0.3513 - val_loss: 1.2773 - val_accuracy: 0.7721\n",
            "Epoch 2/32\n",
            "98/98 [==============================] - 97s 956ms/step - loss: 1.9609 - accuracy: 0.4342 - val_loss: 0.9535 - val_accuracy: 0.8547\n",
            "Epoch 3/32\n",
            "98/98 [==============================] - 104s 1s/step - loss: 1.5418 - accuracy: 0.5536 - val_loss: 0.6101 - val_accuracy: 0.8860\n",
            "Epoch 4/32\n",
            "98/98 [==============================] - 121s 1s/step - loss: 1.3466 - accuracy: 0.5906 - val_loss: 0.5063 - val_accuracy: 0.8946\n",
            "Epoch 5/32\n",
            "98/98 [==============================] - 116s 1s/step - loss: 1.0052 - accuracy: 0.7017 - val_loss: 0.4193 - val_accuracy: 0.9345\n",
            "Epoch 6/32\n",
            "98/98 [==============================] - 109s 1s/step - loss: 0.8597 - accuracy: 0.7502 - val_loss: 0.4242 - val_accuracy: 0.9231\n",
            "Epoch 7/32\n",
            "98/98 [==============================] - 109s 1s/step - loss: 0.6911 - accuracy: 0.7961 - val_loss: 0.3128 - val_accuracy: 0.9516\n",
            "Epoch 8/32\n",
            "98/98 [==============================] - 109s 1s/step - loss: 0.6293 - accuracy: 0.8160 - val_loss: 0.4872 - val_accuracy: 0.8974\n",
            "Epoch 9/32\n",
            "98/98 [==============================] - 112s 1s/step - loss: 0.5429 - accuracy: 0.8443 - val_loss: 0.2788 - val_accuracy: 0.9601\n",
            "Epoch 10/32\n",
            "98/98 [==============================] - 109s 1s/step - loss: 0.4837 - accuracy: 0.8590 - val_loss: 0.2872 - val_accuracy: 0.9573\n",
            "Epoch 11/32\n",
            "98/98 [==============================] - 103s 1s/step - loss: 0.3560 - accuracy: 0.8866 - val_loss: 0.3168 - val_accuracy: 0.9573\n",
            "Epoch 12/32\n",
            "98/98 [==============================] - 104s 1s/step - loss: 0.3902 - accuracy: 0.8921 - val_loss: 0.3237 - val_accuracy: 0.9630\n",
            "Epoch 13/32\n",
            "98/98 [==============================] - 105s 1s/step - loss: 0.3291 - accuracy: 0.9062 - val_loss: 0.2848 - val_accuracy: 0.9630\n",
            "Epoch 14/32\n",
            "98/98 [==============================] - 107s 1s/step - loss: 0.3035 - accuracy: 0.9159 - val_loss: 0.3118 - val_accuracy: 0.9573\n",
            "Epoch 15/32\n",
            "98/98 [==============================] - 104s 1s/step - loss: 0.3312 - accuracy: 0.9021 - val_loss: 0.2923 - val_accuracy: 0.9573\n",
            "Epoch 16/32\n",
            "98/98 [==============================] - 105s 1s/step - loss: 0.2943 - accuracy: 0.9184 - val_loss: 0.2779 - val_accuracy: 0.9601\n",
            "Epoch 17/32\n",
            "98/98 [==============================] - 103s 1s/step - loss: 0.2082 - accuracy: 0.9387 - val_loss: 0.3284 - val_accuracy: 0.9601\n",
            "Epoch 18/32\n",
            "98/98 [==============================] - 101s 988ms/step - loss: 0.2630 - accuracy: 0.9232 - val_loss: 0.2831 - val_accuracy: 0.9630\n",
            "Epoch 19/32\n",
            "98/98 [==============================] - 110s 1s/step - loss: 0.2127 - accuracy: 0.9367 - val_loss: 0.2684 - val_accuracy: 0.9630\n",
            "Epoch 20/32\n",
            "98/98 [==============================] - 103s 1s/step - loss: 0.2247 - accuracy: 0.9409 - val_loss: 0.3092 - val_accuracy: 0.9601\n",
            "Epoch 21/32\n",
            "98/98 [==============================] - 101s 1s/step - loss: 0.2044 - accuracy: 0.9416 - val_loss: 0.2832 - val_accuracy: 0.9658\n",
            "Epoch 22/32\n",
            "98/98 [==============================] - 100s 988ms/step - loss: 0.1720 - accuracy: 0.9522 - val_loss: 0.2854 - val_accuracy: 0.9630\n",
            "Epoch 23/32\n",
            "98/98 [==============================] - 100s 988ms/step - loss: 0.2061 - accuracy: 0.9448 - val_loss: 0.2391 - val_accuracy: 0.9630\n",
            "Epoch 24/32\n",
            "98/98 [==============================] - 101s 993ms/step - loss: 0.2546 - accuracy: 0.9319 - val_loss: 0.3022 - val_accuracy: 0.9487\n",
            "Epoch 25/32\n",
            "98/98 [==============================] - 95s 939ms/step - loss: 0.2545 - accuracy: 0.9290 - val_loss: 0.2545 - val_accuracy: 0.9544\n",
            "Epoch 26/32\n",
            "98/98 [==============================] - 95s 925ms/step - loss: 0.1882 - accuracy: 0.9435 - val_loss: 0.3001 - val_accuracy: 0.9630\n",
            "Epoch 27/32\n",
            "98/98 [==============================] - 94s 911ms/step - loss: 0.2064 - accuracy: 0.9470 - val_loss: 0.2710 - val_accuracy: 0.9601\n",
            "Epoch 28/32\n",
            "98/98 [==============================] - 94s 915ms/step - loss: 0.2033 - accuracy: 0.9477 - val_loss: 0.2427 - val_accuracy: 0.9601\n",
            "Epoch 29/32\n",
            "98/98 [==============================] - 98s 954ms/step - loss: 0.1687 - accuracy: 0.9557 - val_loss: 0.3017 - val_accuracy: 0.9573\n",
            "Epoch 30/32\n",
            "98/98 [==============================] - 96s 950ms/step - loss: 0.1997 - accuracy: 0.9435 - val_loss: 0.2383 - val_accuracy: 0.9601\n",
            "Epoch 31/32\n",
            "98/98 [==============================] - 96s 946ms/step - loss: 0.1978 - accuracy: 0.9470 - val_loss: 0.3341 - val_accuracy: 0.9516\n",
            "Epoch 32/32\n",
            "98/98 [==============================] - 98s 967ms/step - loss: 0.2275 - accuracy: 0.9342 - val_loss: 0.3332 - val_accuracy: 0.9544\n"
          ]
        }
      ],
      "source": [
        "training_history = cnn.fit(x=training_set,validation_data=validation_set,epochs=32)"
      ]
    },
    {
      "attachments": {},
      "cell_type": "markdown",
      "metadata": {
        "id": "19E3mwj1phoW"
      },
      "source": [
        "##Evaluating Model"
      ]
    },
    {
      "cell_type": "code",
      "execution_count": 16,
      "metadata": {
        "colab": {
          "base_uri": "https://localhost:8080/"
        },
        "id": "iY6o3uxjpgl5",
        "outputId": "09e7d380-60cd-44d3-9313-634605be6b09"
      },
      "outputs": [
        {
          "name": "stdout",
          "output_type": "stream",
          "text": [
            "98/98 [==============================] - 62s 593ms/step - loss: 0.0771 - accuracy: 0.9791\n",
            "Training accuracy: 0.979126513004303\n"
          ]
        }
      ],
      "source": [
        "#Training set Accuracy\n",
        "train_loss, train_acc = cnn.evaluate(training_set)\n",
        "print('Training accuracy:', train_acc)"
      ]
    },
    {
      "cell_type": "code",
      "execution_count": 17,
      "metadata": {
        "colab": {
          "base_uri": "https://localhost:8080/"
        },
        "id": "5SaQgd7bpgwl",
        "outputId": "6a151390-2816-41f5-fce8-9e3402ddf103"
      },
      "outputs": [
        {
          "name": "stdout",
          "output_type": "stream",
          "text": [
            "11/11 [==============================] - 8s 214ms/step - loss: 0.3332 - accuracy: 0.9544\n",
            "Validation accuracy: 0.9544159770011902\n"
          ]
        }
      ],
      "source": [
        "#Validation set Accuracy\n",
        "val_loss, val_acc = cnn.evaluate(validation_set)\n",
        "print('Validation accuracy:', val_acc)"
      ]
    },
    {
      "attachments": {},
      "cell_type": "markdown",
      "metadata": {
        "id": "Qxp0xsjVBGec"
      },
      "source": [
        "##Saving Model"
      ]
    },
    {
      "cell_type": "code",
      "execution_count": 18,
      "metadata": {
        "id": "EEUrBzCrxKt_"
      },
      "outputs": [],
      "source": [
        "cnn.save('trained_model.h5')"
      ]
    },
    {
      "cell_type": "code",
      "execution_count": 19,
      "metadata": {
        "colab": {
          "base_uri": "https://localhost:8080/"
        },
        "id": "BM-sILNMBwh1",
        "outputId": "bf411a48-0d70-4a3b-8cda-f16a05e27e97"
      },
      "outputs": [
        {
          "data": {
            "text/plain": [
              "{'loss': [2.2860724925994873,\n",
              "  1.9608951807022095,\n",
              "  1.5417745113372803,\n",
              "  1.3466429710388184,\n",
              "  1.0051651000976562,\n",
              "  0.8597208857536316,\n",
              "  0.6911334991455078,\n",
              "  0.6292901039123535,\n",
              "  0.5429316163063049,\n",
              "  0.48374301195144653,\n",
              "  0.35595977306365967,\n",
              "  0.3902417719364166,\n",
              "  0.32913336157798767,\n",
              "  0.3035392165184021,\n",
              "  0.33115413784980774,\n",
              "  0.29428938031196594,\n",
              "  0.20819485187530518,\n",
              "  0.26297131180763245,\n",
              "  0.21268081665039062,\n",
              "  0.22470037639141083,\n",
              "  0.204393669962883,\n",
              "  0.17203612625598907,\n",
              "  0.20605549216270447,\n",
              "  0.25456902384757996,\n",
              "  0.2544699013233185,\n",
              "  0.18820588290691376,\n",
              "  0.20639008283615112,\n",
              "  0.20326320827007294,\n",
              "  0.16870170831680298,\n",
              "  0.19965501129627228,\n",
              "  0.19778281450271606,\n",
              "  0.22750583291053772],\n",
              " 'accuracy': [0.3513166308403015,\n",
              "  0.43416827917099,\n",
              "  0.5536288022994995,\n",
              "  0.5905587673187256,\n",
              "  0.7016698718070984,\n",
              "  0.7501605749130249,\n",
              "  0.7960821986198425,\n",
              "  0.8159922957420349,\n",
              "  0.8442517518997192,\n",
              "  0.8590237498283386,\n",
              "  0.8866409659385681,\n",
              "  0.8921002149581909,\n",
              "  0.9062299132347107,\n",
              "  0.9158638119697571,\n",
              "  0.9020552635192871,\n",
              "  0.918432891368866,\n",
              "  0.9386640787124634,\n",
              "  0.9232498407363892,\n",
              "  0.9367372989654541,\n",
              "  0.9409120082855225,\n",
              "  0.9415542483329773,\n",
              "  0.9521515965461731,\n",
              "  0.944765567779541,\n",
              "  0.9319203495979309,\n",
              "  0.929030179977417,\n",
              "  0.9434810280799866,\n",
              "  0.9470134973526001,\n",
              "  0.9476557374000549,\n",
              "  0.9556840062141418,\n",
              "  0.9434810280799866,\n",
              "  0.9470134973526001,\n",
              "  0.93416827917099],\n",
              " 'val_loss': [1.277301549911499,\n",
              "  0.9535055756568909,\n",
              "  0.6100588440895081,\n",
              "  0.5063385963439941,\n",
              "  0.4193301796913147,\n",
              "  0.4241645932197571,\n",
              "  0.3128178119659424,\n",
              "  0.4872438311576843,\n",
              "  0.27876022458076477,\n",
              "  0.287153959274292,\n",
              "  0.31682533025741577,\n",
              "  0.3237482011318207,\n",
              "  0.2847714424133301,\n",
              "  0.3117552399635315,\n",
              "  0.29229018092155457,\n",
              "  0.27788567543029785,\n",
              "  0.328427255153656,\n",
              "  0.28313547372817993,\n",
              "  0.2683744430541992,\n",
              "  0.3092401325702667,\n",
              "  0.283188134431839,\n",
              "  0.2853907346725464,\n",
              "  0.23908266425132751,\n",
              "  0.3021881580352783,\n",
              "  0.2545274496078491,\n",
              "  0.30006182193756104,\n",
              "  0.2710210978984833,\n",
              "  0.24269548058509827,\n",
              "  0.3016578257083893,\n",
              "  0.23832516372203827,\n",
              "  0.3341485559940338,\n",
              "  0.3332388699054718],\n",
              " 'val_accuracy': [0.7720797657966614,\n",
              "  0.8547008633613586,\n",
              "  0.8860399127006531,\n",
              "  0.8945869207382202,\n",
              "  0.934472918510437,\n",
              "  0.9230769276618958,\n",
              "  0.9515669345855713,\n",
              "  0.8974359035491943,\n",
              "  0.9601139426231384,\n",
              "  0.9572649598121643,\n",
              "  0.9572649598121643,\n",
              "  0.9629629850387573,\n",
              "  0.9629629850387573,\n",
              "  0.9572649598121643,\n",
              "  0.9572649598121643,\n",
              "  0.9601139426231384,\n",
              "  0.9601139426231384,\n",
              "  0.9629629850387573,\n",
              "  0.9629629850387573,\n",
              "  0.9601139426231384,\n",
              "  0.9658119678497314,\n",
              "  0.9629629850387573,\n",
              "  0.9629629850387573,\n",
              "  0.9487179517745972,\n",
              "  0.9544159770011902,\n",
              "  0.9629629850387573,\n",
              "  0.9601139426231384,\n",
              "  0.9601139426231384,\n",
              "  0.9572649598121643,\n",
              "  0.9601139426231384,\n",
              "  0.9515669345855713,\n",
              "  0.9544159770011902]}"
            ]
          },
          "execution_count": 19,
          "metadata": {},
          "output_type": "execute_result"
        }
      ],
      "source": [
        "training_history.history #Return Dictionary of history"
      ]
    },
    {
      "cell_type": "code",
      "execution_count": 20,
      "metadata": {
        "id": "GdF3Ig4ZBU9V"
      },
      "outputs": [],
      "source": [
        "#Recording History in json\n",
        "import json\n",
        "with open('training_hist.json','w') as f:\n",
        "  json.dump(training_history.history,f)"
      ]
    },
    {
      "cell_type": "code",
      "execution_count": 21,
      "metadata": {
        "colab": {
          "base_uri": "https://localhost:8080/"
        },
        "id": "w8PnAYbuCNhu",
        "outputId": "0498c464-1a35-4b1c-eac9-7b040fc3d800"
      },
      "outputs": [
        {
          "name": "stdout",
          "output_type": "stream",
          "text": [
            "dict_keys(['loss', 'accuracy', 'val_loss', 'val_accuracy'])\n"
          ]
        }
      ],
      "source": [
        "print(training_history.history.keys())"
      ]
    },
    {
      "attachments": {},
      "cell_type": "markdown",
      "metadata": {
        "id": "ZwTEcIavCjZ8"
      },
      "source": [
        "##Calculating Accuracy of Model Achieved on Validation set"
      ]
    },
    {
      "cell_type": "code",
      "execution_count": 22,
      "metadata": {
        "colab": {
          "base_uri": "https://localhost:8080/"
        },
        "id": "Z8Q2t6FXCUzR",
        "outputId": "4fe43dfc-427b-4491-8ecb-df23fee48447"
      },
      "outputs": [
        {
          "name": "stdout",
          "output_type": "stream",
          "text": [
            "Validation set Accuracy: 95.44159770011902 %\n"
          ]
        }
      ],
      "source": [
        "print(\"Validation set Accuracy: {} %\".format(training_history.history['val_accuracy'][-1]*100))"
      ]
    },
    {
      "attachments": {},
      "cell_type": "markdown",
      "metadata": {
        "id": "qNIMPXKFEZ5B"
      },
      "source": [
        "#Accuracy Visualization"
      ]
    },
    {
      "attachments": {},
      "cell_type": "markdown",
      "metadata": {
        "id": "Mdg9Zjp2EfSa"
      },
      "source": [
        "##Training Visualization"
      ]
    },
    {
      "cell_type": "code",
      "execution_count": 23,
      "metadata": {
        "id": "fAvJjfBAFNJx"
      },
      "outputs": [],
      "source": [
        "#training_history.history['accuracy']"
      ]
    },
    {
      "cell_type": "code",
      "execution_count": 24,
      "metadata": {
        "colab": {
          "base_uri": "https://localhost:8080/",
          "height": 472
        },
        "id": "gfKdieuJCt3m",
        "outputId": "77a92436-2a70-49ce-df63-9b657f304bca"
      },
      "outputs": [
        {
          "data": {
            "image/png": "[encoded data removed]",
            "text/plain": [
              "<Figure size 640x480 with 1 Axes>"
            ]
          },
          "metadata": {},
          "output_type": "display_data"
        }
      ],
      "source": [
        "epochs = [i for i in range(1,33)]\n",
        "plt.plot(epochs,training_history.history['accuracy'],color='red')\n",
        "plt.xlabel('No. of Epochs')\n",
        "plt.ylabel('Traiining Accuracy')\n",
        "plt.title('Visualization of Training Accuracy Result')\n",
        "plt.show()"
      ]
    },
    {
      "attachments": {},
      "cell_type": "markdown",
      "metadata": {
        "id": "FbOcpJL1FvJG"
      },
      "source": [
        "##Validation Accuracy"
      ]
    },
    {
      "cell_type": "code",
      "execution_count": 25,
      "metadata": {
        "colab": {
          "base_uri": "https://localhost:8080/",
          "height": 472
        },
        "id": "ZXyC9WAJEs-B",
        "outputId": "30381935-52c8-4441-d7f8-c6f516729619"
      },
      "outputs": [
        {
          "data": {
            "image/png": "[encoded data removed]",
            "text/plain": [
              "<Figure size 640x480 with 1 Axes>"
            ]
          },
          "metadata": {},
          "output_type": "display_data"
        }
      ],
      "source": [
        "plt.plot(epochs,training_history.history['val_accuracy'],color='blue')\n",
        "plt.xlabel('No. of Epochs')\n",
        "plt.ylabel('Validation Accuracy')\n",
        "plt.title('Visualization of Validation Accuracy Result')\n",
        "plt.show()"
      ]
    },
    {
      "cell_type": "code",
      "execution_count": 25,
      "metadata": {
        "id": "6mB3DkYFEuRg"
      },
      "outputs": [],
      "source": []
    },
    {
      "attachments": {},
      "cell_type": "markdown",
      "metadata": {
        "id": "IJfYwGbmASaL"
      },
      "source": [
        "##Test set Evaluation"
      ]
    },
    {
      "cell_type": "code",
      "execution_count": 28,
      "metadata": {
        "colab": {
          "base_uri": "https://localhost:8080/"
        },
        "id": "fGs_0S4AAUj_",
        "outputId": "362dc8c1-9a5a-4b87-bcdd-e8027d163042"
      },
      "outputs": [
        {
          "name": "stdout",
          "output_type": "stream",
          "text": [
            "Found 359 files belonging to 36 classes.\n"
          ]
        }
      ],
      "source": [
        "test_set = tf.keras.utils.image_dataset_from_directory(\n",
        "    '/content/drive/MyDrive/Hackathons/WaffleHacks/test',\n",
        "    labels=\"inferred\",\n",
        "    label_mode=\"categorical\",\n",
        "    class_names=None,\n",
        "    color_mode=\"rgb\",\n",
        "    batch_size=32,\n",
        "    image_size=(64, 64),\n",
        "    shuffle=True,\n",
        "    seed=None,\n",
        "    validation_split=None,\n",
        "    subset=None,\n",
        "    interpolation=\"bilinear\",\n",
        "    follow_links=False,\n",
        "    crop_to_aspect_ratio=False\n",
        ")"
      ]
    },
    {
      "cell_type": "code",
      "execution_count": 29,
      "metadata": {
        "colab": {
          "base_uri": "https://localhost:8080/"
        },
        "id": "GdMcF4vnAYuM",
        "outputId": "7e4743bb-2115-4d45-b816-6445654019c4"
      },
      "outputs": [
        {
          "name": "stdout",
          "output_type": "stream",
          "text": [
            "12/12 [==============================] - 63s 967ms/step - loss: 0.3261 - accuracy: 0.9554\n",
            "Test accuracy: 0.9554317593574524\n"
          ]
        }
      ],
      "source": [
        "test_loss,test_acc = cnn.evaluate(test_set)\n",
        "print('Test accuracy:', test_acc)"
      ]
    },
    {
      "cell_type": "code",
      "execution_count": null,
      "metadata": {
        "id": "MmHXzT0PAiOn"
      },
      "outputs": [],
      "source": []
    }
  ],
  "metadata": {
    "colab": {
      "provenance": []
    },
    "kernelspec": {
      "display_name": "Python 3",
      "name": "python3"
    },
    "language_info": {
      "name": "python"
    }
  },
  "nbformat": 4,
  "nbformat_minor": 0
}
